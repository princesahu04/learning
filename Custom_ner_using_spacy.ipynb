# https://towardsdatascience.com/custom-named-entity-recognition-using-spacy-7140ebbb3718

{
 "cells": [
  {
   "cell_type": "code",
   "execution_count": 1,
   "metadata": {},
   "outputs": [],
   "source": [
    "import spacy\n",
    "import random"
   ]
  },
  {
   "cell_type": "code",
   "execution_count": 2,
   "metadata": {},
   "outputs": [],
   "source": [
    "TRAIN_DATA = [('what is the price of polo?', {'entities': [(21, 25, 'PrdName')]}), \n",
    "              ('what is the price of ball?', {'entities': [(21, 25, 'PrdName')]}), \n",
    "              ('what is the price of jegging?', {'entities': [(21, 28, 'PrdName')]}), \n",
    "              ('what is the price of t-shirt?', {'entities': [(21, 28, 'PrdName')]}), \n",
    "              ('what is the price of jeans?', {'entities': [(21, 26, 'PrdName')]}), \n",
    "              ('what is the price of bat?', {'entities': [(21, 24, 'PrdName')]}), \n",
    "              ('what is the price of shirt?', {'entities': [(21, 26, 'PrdName')]}), \n",
    "              ('what is the price of bag?', {'entities': [(21, 24, 'PrdName')]}), \n",
    "              ('what is the price of cup?', {'entities': [(21, 24, 'PrdName')]}), \n",
    "              ('what is the price of jug?', {'entities': [(21, 24, 'PrdName')]}), \n",
    "              ('what is the price of plate?', {'entities': [(21, 26, 'PrdName')]}), \n",
    "              ('what is the price of glass?', {'entities': [(21, 26, 'PrdName')]}), \n",
    "              ('what is the price of moniter?', {'entities': [(21, 28, 'PrdName')]}), \n",
    "              ('what is the price of desktop?', {'entities': [(21, 28, 'PrdName')]}), \n",
    "              ('what is the price of bottle?', {'entities': [(21, 27, 'PrdName')]}), \n",
    "              ('what is the price of mouse?', {'entities': [(21, 26, 'PrdName')]}), \n",
    "              ('what is the price of keyboad?', {'entities': [(21, 28, 'PrdName')]}), \n",
    "              ('what is the price of chair?', {'entities': [(21, 26, 'PrdName')]}), \n",
    "              ('what is the price of table?', {'entities': [(21, 26, 'PrdName')]}), \n",
    "              ('what is the price of watch?', {'entities': [(21, 26, 'PrdName')]})]\n"
   ]
  },
  {
   "cell_type": "code",
   "execution_count": 3,
   "metadata": {},
   "outputs": [],
   "source": [
    "def train_spacy(data,iterations):\n",
    "    TRAIN_DATA = data\n",
    "    nlp = spacy.blank('en')  # create blank Language class\n",
    "    # create the built-in pipeline components and add them to the pipeline\n",
    "    # nlp.create_pipe works for built-ins that are registered with spaCy\n",
    "    if 'ner' not in nlp.pipe_names:\n",
    "        ner = nlp.create_pipe('ner')\n",
    "        nlp.add_pipe(ner, last=True)\n",
    "        \n",
    "    # add labels\n",
    "    for _, annotations in TRAIN_DATA:\n",
    "         for ent in annotations.get('entities'):\n",
    "            ner.add_label(ent[2])\n",
    "    \n",
    "    # get names of other pipes to disable them during training\n",
    "    other_pipes = [pipe for pipe in nlp.pipe_names if pipe != 'ner']\n",
    "    with nlp.disable_pipes(*other_pipes):  # only train NER\n",
    "        optimizer = nlp.begin_training()\n",
    "        for itn in range(iterations):\n",
    "            print(\"Statring iteration \" + str(itn))\n",
    "            random.shuffle(TRAIN_DATA)\n",
    "            losses = {}\n",
    "            for text, annotations in TRAIN_DATA:\n",
    "                nlp.update(\n",
    "                    [text],  # batch of texts\n",
    "                    [annotations],  # batch of annotations\n",
    "                    drop=0.2,  # dropout - make it harder to memorise data\n",
    "                    sgd=optimizer,  # callable to update weights\n",
    "                    losses=losses)\n",
    "            print(losses)\n",
    "    return nlp"
   ]
  },
  {
   "cell_type": "code",
   "execution_count": 4,
   "metadata": {},
   "outputs": [
    {
     "name": "stdout",
     "output_type": "stream",
     "text": [
      "Statring iteration 0\n",
      "{'ner': 39.29997991725759}\n",
      "Statring iteration 1\n",
      "{'ner': 2.738530510572557}\n",
      "Statring iteration 2\n",
      "{'ner': 1.9999608371401305}\n",
      "Statring iteration 3\n",
      "{'ner': 1.9045204215840639}\n",
      "Statring iteration 4\n",
      "{'ner': 1.1678289794291266}\n",
      "Statring iteration 5\n",
      "{'ner': 1.371691502069523}\n",
      "Statring iteration 6\n",
      "{'ner': 6.270603064254347}\n",
      "Statring iteration 7\n",
      "{'ner': 2.901601725042764}\n",
      "Statring iteration 8\n",
      "{'ner': 2.052294941778214}\n",
      "Statring iteration 9\n",
      "{'ner': 5.468287780972107}\n",
      "Statring iteration 10\n",
      "{'ner': 0.9911188898480822}\n",
      "Statring iteration 11\n",
      "{'ner': 3.9038488124912627}\n",
      "Statring iteration 12\n",
      "{'ner': 1.6045327172075146}\n",
      "Statring iteration 13\n",
      "{'ner': 6.1903272473921405}\n",
      "Statring iteration 14\n",
      "{'ner': 2.670536581209119}\n",
      "Statring iteration 15\n",
      "{'ner': 0.21407040945715117}\n",
      "Statring iteration 16\n",
      "{'ner': 2.865085012736528}\n",
      "Statring iteration 17\n",
      "{'ner': 3.164960454905127}\n",
      "Statring iteration 18\n",
      "{'ner': 1.5549737126720333}\n",
      "Statring iteration 19\n",
      "{'ner': 0.032606143976438344}\n"
     ]
    }
   ],
   "source": [
    "prdnlp = train_spacy(TRAIN_DATA, 20)"
   ]
  },
  {
   "cell_type": "code",
   "execution_count": 5,
   "metadata": {},
   "outputs": [
    {
     "name": "stdout",
     "output_type": "stream",
     "text": [
      "Enter your Model Name: custom_ner_model\n"
     ]
    }
   ],
   "source": [
    "# Save our trained Model\n",
    "modelfile = input(\"Enter your Model Name: \")\n",
    "prdnlp.to_disk(modelfile)"
   ]
  },
  {
   "cell_type": "code",
   "execution_count": 6,
   "metadata": {},
   "outputs": [],
   "source": [
    "nlp = spacy.load('custom_ner_model')"
   ]
  },
  {
   "cell_type": "code",
   "execution_count": 7,
   "metadata": {},
   "outputs": [],
   "source": [
    "doc = nlp(u\"what is the price of mobile\")"
   ]
  },
  {
   "cell_type": "code",
   "execution_count": 8,
   "metadata": {},
   "outputs": [
    {
     "name": "stdout",
     "output_type": "stream",
     "text": [
      "Enter your testing text: What is the price of mobile?\n",
      "mobile 21 27 PrdName\n"
     ]
    }
   ],
   "source": [
    "#Test your text\n",
    "test_text = input(\"Enter your testing text: \")\n",
    "doc = prdnlp(test_text)\n",
    "for ent in doc.ents:\n",
    "    print(ent.text, ent.start_char, ent.end_char, ent.label_)"
   ]
  },
  {
   "cell_type": "code",
   "execution_count": 9,
   "metadata": {},
   "outputs": [
    {
     "name": "stdout",
     "output_type": "stream",
     "text": [
      "Enter your testing text: What is the price of pen\n",
      "pen 21 24 PrdName\n"
     ]
    }
   ],
   "source": [
    "\n",
    "#Test your text\n",
    "test_text = input(\"Enter your testing text: \")\n",
    "doc = nlp(test_text)\n",
    "for ent in doc.ents:\n",
    "    print(ent.text, ent.start_char, ent.end_char, ent.label_)"
   ]
  },
  {
   "cell_type": "code",
   "execution_count": null,
   "metadata": {},
   "outputs": [],
   "source": []
  }
 ],
 "metadata": {
  "kernelspec": {
   "display_name": "Python 3",
   "language": "python",
   "name": "python3"
  },
  "language_info": {
   "codemirror_mode": {
    "name": "ipython",
    "version": 3
   },
   "file_extension": ".py",
   "mimetype": "text/x-python",
   "name": "python",
   "nbconvert_exporter": "python",
   "pygments_lexer": "ipython3",
   "version": "3.7.0"
  }
 },
 "nbformat": 4,
 "nbformat_minor": 2
}
